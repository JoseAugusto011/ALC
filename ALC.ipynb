{
 "cells": [
  {
   "attachments": {},
   "cell_type": "markdown",
   "metadata": {},
   "source": [
    "### Métodos ALgebricos"
   ]
  },
  {
   "cell_type": "code",
   "execution_count": 86,
   "metadata": {},
   "outputs": [],
   "source": [
    "import numpy as np \n",
    "\n",
    "\n",
    "\n",
    "\n",
    "# Operações com vetores\n",
    "\n",
    "def SomaVetores(x, y):\n",
    "    \n",
    "    np.sum(x, y)\n",
    "\n",
    "def MultiplicaEscalarVetor(a, x):    \n",
    "    np.dot(a, x)\n",
    "\n",
    "\n",
    "def ProdutoInterno(x, y):\n",
    "    return np.dot(x, y)"
   ]
  },
  {
   "cell_type": "code",
   "execution_count": 87,
   "metadata": {},
   "outputs": [],
   "source": [
    "\n",
    "\n",
    "#Normas \n",
    "\n",
    "def Norma1(x):\n",
    "    return np.sum(np.abs(x))\n",
    "def Norma2(x):\n",
    "    return np.sqrt(np.sum(np.abs(x)**2))\n",
    "def NormaInfinito(x):\n",
    "    return np.max(np.abs(x))\n",
    "def Normap(x, p):\n",
    "    return np.sum(np.abs(x)**p)**(1/p)\n",
    "def NormaSoma(x, y):\n",
    "    return np.sqrt(Norma2(x)**2 + Norma2(y)**2 + 2*ProdutoInterno(x, y))\n",
    "def NormaSubtracao(x, y):\n",
    "    return np.sqrt( (Norma2(x)) **2 + (Norma2(y))**2 - 2*ProdutoInterno(x, y))\n",
    "\n",
    "# Distâncias\n",
    "\n",
    "def DistanciaCaracteristicas(x, y):\n",
    "    \n",
    "    return NormaSubtracao(x, y)\n",
    "\n",
    "def Vizinhanca(x,z):\n",
    "    # X é o ponto base \n",
    "    # Z é uma lista de pontos, a qual queremos o de menor distância\n",
    "    \n",
    "    proximo = z[0]\n",
    "    \n",
    "    for i in range(len(z)):\n",
    "        if DistanciaCaracteristicas(x, z[i]) < DistanciaCaracteristicas(x, proximo):\n",
    "            proximo = z[i]\n",
    "            \n",
    "    return proximo\n",
    "\n",
    "\n",
    "# Aplicação Normalização\n",
    "\n",
    "def NormalizaVetor(x):\n",
    "    return x/Norma2(x)\n",
    "\n",
    "def BaseOrtonormal(beta,x):\n",
    "    \n",
    "    #x é o vetor que queremos a base ortonormal\n",
    "    #beta é a base ortonormal\n",
    "    xnormal = []\n",
    "    \n",
    "    if len(beta) != len(x):\n",
    "        print(\"Erro, dimensões diferentes\")\n",
    "        return\n",
    "    else:\n",
    "        \n",
    "        for i in range(len(beta)):\n",
    "            \n",
    "            xnormal.append(ProdutoInterno(x, beta[i])*beta[i])\n",
    "        \n",
    "        return xnormal\n",
    "\n",
    "def AnguloVetores(x, y):\n",
    "    \n",
    "    return np.arccos(  ( ProdutoInterno(x, y)/(Norma2(x)*Norma2(y)) )  )    \n",
    "\n",
    "\n",
    "\n"
   ]
  },
  {
   "cell_type": "code",
   "execution_count": 120,
   "metadata": {},
   "outputs": [],
   "source": [
    "\n",
    "\n",
    "# Algoritmos\n",
    "\n",
    "# Posto de uma matriz = número de vetores linearmente independentes\n",
    "\n",
    "def GramSchmidt(a, tol=1e-10):\n",
    "    q = []\n",
    "    for i in range(len(a)):\n",
    "        qtilde = np.array(a[i], dtype=np.float64)  # Convert to float64 explicitly\n",
    "        for j in range(i):\n",
    "            qtilde -= np.dot(q[j], a[i]) * q[j]\n",
    "        if np.linalg.norm(qtilde) < tol:\n",
    "            print(\"Os vetores são linearmente dependentes.\")\n",
    "            return q\n",
    "        print(qtilde)\n",
    "        q.append(qtilde / np.linalg.norm(qtilde))\n",
    "    return q\n",
    "\n",
    "def PostoMatriz(a):\n",
    "    \n",
    "    return len( GramSchmidt(a) )\n",
    "\n",
    "\n",
    "def MatrizPositivaDefinida(A):\n",
    "    \n",
    "    if np.all(np.linalg.eigvals(A) != 0):\n",
    "        return True\n",
    "def MatrizAumentada(A, b):\n",
    "    \n",
    "    return  np.hstack((A, b.reshape((-1, 1))))\n",
    "\n",
    "def TriangularSuperior(matrix):\n",
    "    rows, cols = matrix.shape\n",
    "    for i in range(rows):\n",
    "        for j in range(i + 1, cols):\n",
    "            if matrix[i, j] != 0:\n",
    "                return False\n",
    "    return True\n",
    "\n",
    "def TriangularInferior(matrix):\n",
    "    rows, cols = matrix.shape\n",
    "    for i in range(rows):\n",
    "        for j in range(0, i):\n",
    "            if matrix[i, j] != 0:\n",
    "                return False\n",
    "    return True\n",
    "\n",
    "\n",
    "def GaussianElimination(A): #matriz aumentada\n",
    "    \n",
    "    m,n = A.shape    \n",
    "    A = np.array(A, dtype=np.float64)\n",
    "    for k in range(n-1):        \n",
    "        j = k\n",
    "        while j < n: # Passo 1 \n",
    "            \n",
    "            if A[k,j] != 0:\n",
    "                break\n",
    "            else :                \n",
    "                for r in range(k+1, m):                    \n",
    "                    if A[r,j] != 0: # Acha um pivo diferente de zero                        \n",
    "                        A[k,r] = A[r,k] # Troca as linhas para que o pivo fique na linha mais a esquerda possível                        \n",
    "                        break                    \n",
    "                else:                    \n",
    "                    j += 1                                    \n",
    "        # Passo 2        \n",
    "        for i in range(k+1, m):            \n",
    "            A[i] = A[i] - (A[i,j]/A[k,j])*A[k]    \n",
    "    return A\n",
    "\n",
    "def SistemSolverTS(A):\n",
    "    n = A.shape[0]\n",
    "    x = np.zeros(n)\n",
    "    for i in range(n - 1, -1, -1): # Triangular superior\n",
    "        x[i] = (A[i, -1] - np.dot(A[i, i+1:n], x[i+1:n])) / A[i, i]\n",
    "\n",
    "    return x\n",
    "def SistemSolverTI(A):\n",
    "    n = A.shape[0]\n",
    "    x = np.zeros(n)\n",
    "    for i in range(n): # Triangular inferior\n",
    "        x[i] = (A[i, -1] - np.dot(A[i, :i], x[:i])) / A[i, i]\n",
    "\n",
    "    return x\n",
    "\n",
    "def SistemSolver(A):\n",
    "    \n",
    "    n = A.shape[0]\n",
    "    \n",
    "    x = np.zeros(n)\n",
    "    for i in range(n - 1, -1, -1):\n",
    "        x[i] = (A[i, -1] - np.dot(A[i, i+1:n], x[i+1:n])) / A[i, i]\n",
    "\n",
    "    return x\n",
    "\n",
    "\n",
    "def LUDecomposer(A):\n",
    "    \n",
    "    if MatrizPositivaDefinida(A) != True:\n",
    "        print(\"A matriz não é positiva definida\")\n",
    "        return\n",
    "    else :\n",
    "        \n",
    "        n = A.shape[0]\n",
    "        L = np.eye(n)\n",
    "        U = np.zeros((n, n))\n",
    "        for i in range(n):\n",
    "            for j in range(i+1):\n",
    "                U[j, i] = A[j, i] - np.dot(L[j, :j], U[:j, i])\n",
    "            for j in range(i+1, n):\n",
    "                L[j, i] = (A[j, i] - np.dot(L[j, :i], U[:i, i])) / U[i, i]\n",
    "        return L, U\n",
    "    \n",
    "    \n",
    "def CholeskyDecomposer(A):\n",
    "    \n",
    "    if MatrizPositivaDefinida(A) != True :\n",
    "        print(\"A matriz não é positiva definida\")\n",
    "        return\n",
    "    else :\n",
    "        \n",
    "        n = A.shape[0]\n",
    "        L = np.zeros((n, n))\n",
    "        for i in range(n):\n",
    "            for j in range(i+1):\n",
    "                s = np.dot(L[i, :j], L[j, :j])\n",
    "                if i == j:\n",
    "                    L[i, j] = np.sqrt(A[i, i] - s)\n",
    "                else:\n",
    "                    L[i, j] = (A[i, j] - s) / L[j, j]\n",
    "        return L\n",
    "                    \n",
    "                    \n",
    "                \n",
    "def jacobi_richardson(A, b, tol, maxiter):\n",
    "    n = len(b)\n",
    "    x = np.zeros(n)\n",
    "    nb = np.linalg.norm(b)\n",
    "    res = np.zeros(maxiter + 1)\n",
    "    res[0] = nb\n",
    "    \n",
    "    for k in range(maxiter):\n",
    "        xnovo = np.zeros(n)\n",
    "        for i in range(n):\n",
    "            for j in range(n):\n",
    "                if j != i:\n",
    "                    xnovo[i] += A[i, j] * x[j]\n",
    "            xnovo[i] = (b[i] - xnovo[i]) / A[i, i]\n",
    "        x = xnovo\n",
    "        res[k + 1] = np.linalg.norm(np.dot(A, x) - b)\n",
    "        \n",
    "        if res[k + 1] / nb < tol:\n",
    "            return x, res[:k + 1]\n",
    "    \n",
    "    return x, res\n",
    "\n",
    "\n",
    "def gradiente_conjugado(A, b, x, M):\n",
    "    r = b - np.dot(A, x)\n",
    "    \n",
    "    for k in range(M):\n",
    "        t = np.dot(r, r) / np.dot(r, np.dot(A, r))\n",
    "        x = x + t * r\n",
    "        r = r - t * np.dot(A, r)\n",
    "        \n",
    "        print(\"Iteração:\", k, \" Tamanho do passo:\", t, \" x:\", x, \" r:\", r)\n",
    "    \n",
    "    return x, r\n",
    "\n",
    "def gradiente_conjugado(A, b, x, M):\n",
    "    r = b - np.dot(A, x)\n",
    "    \n",
    "    for k in range(M):\n",
    "        t = np.dot(r, r) / np.dot(r, np.dot(A, r))\n",
    "        x = x + t * r\n",
    "        r = r - t * np.dot(A, r)\n",
    "        \n",
    "        print(\"Iteração:\", k, \" Tamanho do passo:\", t, \" x:\", x, \" r:\", r)\n",
    "    \n",
    "    return x, r\n",
    "\n"
   ]
  },
  {
   "attachments": {},
   "cell_type": "markdown",
   "metadata": {},
   "source": [
    "## AFA 1"
   ]
  },
  {
   "attachments": {},
   "cell_type": "markdown",
   "metadata": {},
   "source": [
    "### Exercício 3.\n",
    "\n",
    "Dado o conjunto V = {v1, v2, v3, v4, v5, v6}, onde\n",
    "v1 = [1,2,3,4], \n",
    "v2 = [0,5,−1,3],\n",
    "v3 = [−4,−3,2,1],\n",
    "v4 = [−,1,−7,3,−7/3],\n",
    "v5 = [1,−4,−6,-2],\n",
    "v6 = [3,2,−1/4,2]"
   ]
  },
  {
   "cell_type": "code",
   "execution_count": 89,
   "metadata": {},
   "outputs": [
    {
     "name": "stdout",
     "output_type": "stream",
     "text": [
      "Produto interno entre v 1  e v 2 :  19\n",
      "Produto interno entre v 1  e v 3 :  0\n",
      "Produto interno entre v 1  e v 4 :  -15.3332\n",
      "Produto interno entre v 1  e v 5 :  -33\n",
      "Produto interno entre v 1  e v 6 :  14.25\n",
      "Produto interno entre v 2  e v 3 :  -14\n",
      "Produto interno entre v 2  e v 4 :  -44.9999\n",
      "Produto interno entre v 2  e v 5 :  -20\n",
      "Produto interno entre v 2  e v 6 :  16.25\n",
      "Produto interno entre v 3  e v 4 :  28.6667\n",
      "Produto interno entre v 3  e v 5 :  -6\n",
      "Produto interno entre v 3  e v 6 :  -16.5\n",
      "Produto interno entre v 4  e v 5 :  13.666599999999999\n",
      "Produto interno entre v 4  e v 6 :  -22.4166\n",
      "Produto interno entre v 5  e v 6 :  -7.5\n"
     ]
    }
   ],
   "source": [
    "## Correção da questão 3 da lista de exercícios\n",
    "\n",
    "# Verifica Ortogonalidade\n",
    "\n",
    "\n",
    "v1 = [1,2,3,4]\n",
    "v2 = [0,5,-1,3]\n",
    "v3 = [-4,-3,2,1]\n",
    "v4 = [-1,-7,3,-2.3333]\n",
    "v5 = [1,-4,-6,-2]\n",
    "v6 = [3,2,-0.25,2]\n",
    "\n",
    "V = np.array([v1,v2,v3,v4,v5,v6],dtype=\"object\")\n",
    "\n",
    "for i in range(len(V)):\n",
    "    for j in range(i,len(V)):\n",
    "        if i != j:\n",
    "            print(\"Produto interno entre v\",i+1,\" e v\",j+1,\": \", ProdutoInterno(V[i],V[j]))"
   ]
  },
  {
   "cell_type": "code",
   "execution_count": null,
   "metadata": {},
   "outputs": [],
   "source": []
  },
  {
   "cell_type": "code",
   "execution_count": 90,
   "metadata": {},
   "outputs": [
    {
     "name": "stdout",
     "output_type": "stream",
     "text": [
      "Angulo entre v 1  e v 2 :  0.9442473545867198\n",
      "Angulo entre v 1  e v 3 :  1.5707963267948966\n",
      "Angulo entre v 1  e v 4 :  1.9270040069334677\n",
      "Angulo entre v 1  e v 5 :  2.49480519746212\n",
      "Angulo entre v 1  e v 6 :  0.8894441470679866\n",
      "Angulo entre v 2  e v 3 :  2.0175602879101473\n",
      "Angulo entre v 2  e v 4 :  2.816162498730185\n",
      "Angulo entre v 2  e v 5 :  2.035070208212683\n",
      "Angulo entre v 2  e v 6 :  0.8433509628782423\n",
      "Angulo entre v 3  e v 4 :  0.860622133841933\n",
      "Angulo entre v 3  e v 5 :  1.7164055673877163\n",
      "Angulo entre v 3  e v 6 :  2.38808423797738\n",
      "Angulo entre v 4  e v 5 :  1.3433484740176547\n",
      "Angulo entre v 4  e v 6 :  2.3131372783928406\n",
      "Angulo entre v 5  e v 6 :  1.8136700887016526\n"
     ]
    }
   ],
   "source": [
    "# Verifica Angulos:\n",
    "\n",
    "\n",
    "for i in range(len(V)):\n",
    "    for j in range(i,len(V)):\n",
    "        if i != j:\n",
    "            print(\"Angulo entre v\",i+1,\" e v\",j+1,\": \", AnguloVetores(V[i],V[j]))\n"
   ]
  },
  {
   "cell_type": "code",
   "execution_count": 91,
   "metadata": {},
   "outputs": [
    {
     "data": {
      "text/plain": [
       "1.5707963267948966"
      ]
     },
     "execution_count": 91,
     "metadata": {},
     "output_type": "execute_result"
    }
   ],
   "source": [
    "np.arccos((ProdutoInterno(v1,v3)/Norma2(v1)*Norma2(v3)))"
   ]
  },
  {
   "cell_type": "code",
   "execution_count": 92,
   "metadata": {},
   "outputs": [
    {
     "name": "stdout",
     "output_type": "stream",
     "text": [
      "Combinação: v0,v1,v2,v3 [1 2 3 4] [0 5 -1 3] [-4 -3 2 1] [-1 -7 3 -2.3333]\n",
      "Formam uma base, det:  0.0024999999999941766\n",
      "Combinação: v0,v1,v2,v4 [1 2 3 4] [0 5 -1 3] [-4 -3 2 1] [1 -4 -6 -2]\n",
      "Formam uma base, det:  534.0000000000001\n",
      "Combinação: v0,v1,v2,v5 [1 2 3 4] [0 5 -1 3] [-4 -3 2 1] [3 2 -0.25 2]\n",
      "Formam uma base, det:  133.4999999999999\n",
      "Combinação: v0,v1,v3,v4 [1 2 3 4] [0 5 -1 3] [-1 -7 3 -2.3333] [1 -4 -6 -2]\n",
      "Formam uma base, det:  178.00169999999994\n",
      "Combinação: v0,v1,v3,v5 [1 2 3 4] [0 5 -1 3] [-1 -7 3 -2.3333] [3 2 -0.25 2]\n",
      "Formam uma base, det:  44.501674999999985\n",
      "Combinação: v0,v1,v4,v5 [1 2 3 4] [0 5 -1 3] [1 -4 -6 -2] [3 2 -0.25 2]\n",
      "Formam uma base, det:  267.00000000000006\n",
      "Combinação: v0,v2,v3,v4 [1 2 3 4] [-4 -3 2 1] [-1 -7 3 -2.3333] [1 -4 -6 -2]\n",
      "Formam uma base, det:  711.9987000000006\n",
      "Combinação: v0,v2,v3,v5 [1 2 3 4] [-4 -3 2 1] [-1 -7 3 -2.3333] [3 2 -0.25 2]\n",
      "Formam uma base, det:  177.9996750000001\n",
      "Combinação: v0,v2,v4,v5 [1 2 3 4] [-4 -3 2 1] [1 -4 -6 -2] [3 2 -0.25 2]\n",
      "LD!!\n",
      "Combinação: v0,v3,v4,v5 [1 2 3 4] [-1 -7 3 -2.3333] [1 -4 -6 -2] [3 2 -0.25 2]\n",
      "Formam uma base, det:  -355.99934999999994\n",
      "Combinação: v1,v2,v3,v4 [0 5 -1 3] [-4 -3 2 1] [-1 -7 3 -2.3333] [1 -4 -6 -2]\n",
      "Formam uma base, det:  178.0043000000001\n",
      "Combinação: v1,v2,v3,v5 [0 5 -1 3] [-4 -3 2 1] [-1 -7 3 -2.3333] [3 2 -0.25 2]\n",
      "Formam uma base, det:  44.49920000000002\n",
      "Combinação: v1,v2,v4,v5 [0 5 -1 3] [-4 -3 2 1] [1 -4 -6 -2] [3 2 -0.25 2]\n",
      "Formam uma base, det:  -400.5000000000001\n",
      "Combinação: v1,v3,v4,v5 [0 5 -1 3] [-1 -7 3 -2.3333] [1 -4 -6 -2] [3 2 -0.25 2]\n",
      "Formam uma base, det:  -222.50342499999996\n",
      "Combinação: v2,v3,v4,v5 [-4 -3 2 1] [-1 -7 3 -2.3333] [1 -4 -6 -2] [3 2 -0.25 2]\n",
      "Formam uma base, det:  -533.999025\n"
     ]
    }
   ],
   "source": [
    "# Gerar todos os possíveis subconjuntos de v com 4 vetores e verificar se formam uma base\n",
    "\n",
    "# C 6,4 = 15\n",
    "\n",
    "#Separar as combinações de quatro vetores possíveis\n",
    "\n",
    "for i in range(len(V)):\n",
    "    for j in range(i+1,len(V)):\n",
    "        for k in range(j+1,len(V)):\n",
    "            for l in range(k+1,len(V)):\n",
    "                print(\"Combinação: v%d,v%d,v%d,v%d\"%(i,j,k,l),V[i],V[j],V[k],V[l])\n",
    "                #print(V[i],V[j],V[k],V[l])\n",
    "                # verificar se formam uma base\n",
    "                A = np.array([V[i],V[j],V[k],V[l]], dtype=\"float64\")\n",
    "                #print(A)\n",
    "                det = np.linalg.det(A)\n",
    "                if det != 0:\n",
    "                    \n",
    "                    print(\"Formam uma base, det: \", det)\n",
    "                else:\n",
    "                    print(\"LD!!\")"
   ]
  },
  {
   "cell_type": "code",
   "execution_count": 93,
   "metadata": {},
   "outputs": [],
   "source": [
    "Z  = np.array([[ 1,  2,  3, 4],[ 0,  5,-1, 3],[-4,-3, 2, 1],[ 1,-4,-6,-2]], dtype=\"float64\")\n",
    "\n",
    "h = np.array([[1,0],[0,2]], dtype=\"float64\")"
   ]
  },
  {
   "cell_type": "code",
   "execution_count": 94,
   "metadata": {},
   "outputs": [
    {
     "data": {
      "text/plain": [
       "534.0000000000001"
      ]
     },
     "execution_count": 94,
     "metadata": {},
     "output_type": "execute_result"
    }
   ],
   "source": [
    "np.linalg.det(Z)"
   ]
  },
  {
   "cell_type": "code",
   "execution_count": 95,
   "metadata": {},
   "outputs": [
    {
     "name": "stdout",
     "output_type": "stream",
     "text": [
      "Norma 1 de v1:  10\n",
      "Norma 2 de v1:  5.477225575051661\n",
      "Norma infinito de v1:  4\n",
      "Norma 1 de v2:  9\n",
      "Norma 2 de v2:  5.916079783099616\n",
      "Norma infinito de v2:  5\n",
      "Norma 1 de v3:  10\n",
      "Norma 2 de v3:  5.477225575051661\n",
      "Norma infinito de v3:  4\n",
      "Norma 1 de v4:  13.3333\n",
      "Norma 2 de v4:  8.027720030618905\n",
      "Norma infinito de v4:  7\n",
      "Norma 1 de v5:  13\n",
      "Norma 2 de v5:  7.54983443527075\n",
      "Norma infinito de v5:  6\n",
      "Norma 1 de v6:  7.25\n",
      "Norma 2 de v6:  4.130677910464576\n",
      "Norma infinito de v6:  3\n"
     ]
    }
   ],
   "source": [
    "# Calcular Normas 1,2,infinito para cada vetor\n",
    "\n",
    "for i in range(len(V)):\n",
    "    print(\"Norma 1 de v%d: \"%(i+1), Norma1(V[i]))\n",
    "    print(\"Norma 2 de v%d: \"%(i+1), Norma2(V[i]))\n",
    "    print(\"Norma infinito de v%d: \"%(i+1), NormaInfinito(V[i]))"
   ]
  },
  {
   "cell_type": "code",
   "execution_count": 96,
   "metadata": {},
   "outputs": [],
   "source": [
    "### Questão 6\n",
    "\n",
    "def a(x):\n",
    "    \n",
    "    return np.max(np.abs(x[:-1])) # Norma infinito de 1 ate n-1\n",
    "\n",
    "def b(x):\n",
    "    return np.sum(np.abs(x**3))\n",
    "\n",
    "def c(x):\n",
    "    return np.sum(np.abs(x**2)**(1/2))\n",
    "\n",
    "def d(x):\n",
    "    \n",
    "    soma = 0\n",
    "    for i in range(len(x)):\n",
    "       soma += np.abs((2**-i)*x[i])\n",
    "    \n",
    "    return soma"
   ]
  },
  {
   "cell_type": "code",
   "execution_count": 97,
   "metadata": {},
   "outputs": [
    {
     "name": "stdout",
     "output_type": "stream",
     "text": [
      "True True True\n",
      "True False True\n",
      "True True True\n",
      "True True True\n"
     ]
    }
   ],
   "source": [
    "# Verificar Norma:\n",
    "\n",
    "#||u|| >= 0\n",
    "#||u+v|| <= ||u|| + ||v||\n",
    "#||au|| = |a|*||u||\n",
    "\n",
    "u = np.array([1,0,1])\n",
    "v = np.array([-2,1,0])\n",
    "\n",
    "print(a(u+v) <= a(u) + a(v),a(2*u) == 2*a(u),a(u) >= 0 )\n",
    "print(b(u+v) <= b(u) + b(v),b(2*u) == 2*b(u),b(u) >= 0 )\n",
    "print(c(u+v) <= c(u) + c(v),c(2*u) == 2*c(u),c(u) >= 0 )\n",
    "print(d(u+v) <= d(u) + d(v),d(2*u) == 2*d(u),d(u) >= 0 )\n",
    "\n"
   ]
  },
  {
   "cell_type": "code",
   "execution_count": 98,
   "metadata": {},
   "outputs": [
    {
     "name": "stdout",
     "output_type": "stream",
     "text": [
      "[1. 1. 0.]\n",
      "[-0.5  0.5  1. ]\n",
      "[ 0.66666667 -0.66666667  0.66666667]\n",
      "Norma 2 do vetor 1:  0.9999999999999999\n",
      "Norma 2 do vetor 2:  1.0\n",
      "Norma 2 do vetor 3:  1.0\n"
     ]
    }
   ],
   "source": [
    "# Questão 8\n",
    "\n",
    "\n",
    "a1 = np.array([1,1,0])\n",
    "a2 = np.array([0,1,1])\n",
    "a3 = np.array([1,0,1])\n",
    "\n",
    "beta = [a1,a2,a3]\n",
    "\n",
    "\n",
    "# base ortonormal\n",
    "\n",
    "beta = GramSchmidt(beta)\n",
    "\n",
    "for i in range(len(beta)):\n",
    "    print(\"Norma 2 do vetor %d: \"%(i+1), Norma2(beta[i]))"
   ]
  },
  {
   "cell_type": "code",
   "execution_count": 99,
   "metadata": {},
   "outputs": [
    {
     "name": "stdout",
     "output_type": "stream",
     "text": [
      "[1. 0. 0. 0. 0. 0. 0. 0. 0. 0.]\n",
      "[0. 1. 0. 0. 0. 0. 0. 0. 0. 0.]\n",
      "[0. 0. 1. 1. 1. 1. 1. 1. 1. 1.]\n"
     ]
    },
    {
     "data": {
      "text/plain": [
       "[array([1., 0., 0., 0., 0., 0., 0., 0., 0., 0.]),\n",
       " array([0., 1., 0., 0., 0., 0., 0., 0., 0., 0.]),\n",
       " array([0.        , 0.        , 0.35355339, 0.35355339, 0.35355339,\n",
       "        0.35355339, 0.35355339, 0.35355339, 0.35355339, 0.35355339])]"
      ]
     },
     "execution_count": 99,
     "metadata": {},
     "output_type": "execute_result"
    }
   ],
   "source": [
    "# Questão 9\n",
    "\n",
    "beta  = np.empty((3,3), dtype=\"float64\")\n",
    "\n",
    "\n",
    "\n",
    "a1 = np.array([1,0,0, 0,0,0, 0,0,0,0])\n",
    "a2 = np.array([1,1,0, 0,0,0, 0,0,0,0])\n",
    "a3 = np.ones(10)\n",
    "beta = np.array([a1,a2,a3], dtype=\"float64\")\n",
    "GramSchmidt(beta)"
   ]
  },
  {
   "cell_type": "code",
   "execution_count": 100,
   "metadata": {},
   "outputs": [
    {
     "name": "stdout",
     "output_type": "stream",
     "text": [
      "True\n",
      "False\n",
      "False\n",
      "True\n"
     ]
    }
   ],
   "source": [
    "\n",
    "# Questão 1 EXO1\n",
    "\n",
    "\"\"\" \n",
    "Dados os seguintes vetores em R4\n",
    "v1=⎡⎣⎢⎢⎢1234⎤⎦⎥⎥⎥,v2=⎡⎣⎢⎢⎢−4−321⎤⎦⎥⎥⎥ev3=⎡⎣⎢⎢⎢1−4−6−2⎤⎦⎥⎥⎥\n",
    ". \n",
    "\n",
    "  Verifique:\n",
    "\n",
    " ∥v1∥∞≤∥v2∥1+∥v3∥2\n",
    " em branco\n",
    " ∥v3∥2≥∥v1∥1+∥v2∥∞\n",
    " em branco\n",
    " ∥v1−v2∥2≥∥v1−v2∥1\n",
    " em branco\n",
    " ∥v2−v3∥1≥∥v1−v3∥∞\n",
    " em branco\"\"\"\n",
    " \n",
    " \n",
    "v1 = np.array([1,2,3,4])\n",
    "v2 = np.array([-4,-3,2,1])\n",
    "v3 = np.array([1,-4,-6,-2])\n",
    "\n",
    "print(NormaInfinito(v1) <= Norma1(v2) + Norma2(v3))\n",
    "print(Norma2(v3) >= Norma1(v1) + NormaInfinito(v2))\n",
    "print(Norma2(v1-v2) >= Norma1(v1-v2))\n",
    "print(Norma1(v2-v3) >= NormaInfinito(v1-v3))"
   ]
  },
  {
   "cell_type": "code",
   "execution_count": 101,
   "metadata": {},
   "outputs": [
    {
     "name": "stdout",
     "output_type": "stream",
     "text": [
      "False\n"
     ]
    }
   ],
   "source": [
    "# Questão 2 EXO1\n",
    "\n",
    "\"\"\"  \n",
    "Dado  x=⎡⎣⎢⎢⎢⎢x1x2⋮xn⎤⎦⎥⎥⎥⎥∈Rn\n",
    " . Determine se a expressão:\n",
    "N(x)=∑i=1n|xi|3\n",
    "\n",
    "  define uma norma em Rn\n",
    ".\n",
    "\"\"\"\n",
    "\n",
    "def NormaCuboAbs(x):\n",
    "    return np.sum(np.abs(x**3))\n",
    "  \n",
    "if NormaCuboAbs(v1) >= 0 and NormaCuboAbs(2*v1) == 2*NormaCuboAbs(v1) and NormaCuboAbs(v1+v2) <= NormaCuboAbs(v1) + NormaCuboAbs(v2):\n",
    "    print(\"True\")\n",
    "else:\n",
    "    print(\"False\")  \n",
    "    \n",
    "\n",
    "    \n"
   ]
  },
  {
   "cell_type": "code",
   "execution_count": 102,
   "metadata": {},
   "outputs": [
    {
     "name": "stdout",
     "output_type": "stream",
     "text": [
      "Formam uma base\n",
      "[1. 0. 0.]\n",
      "[0. 1. 0.]\n",
      "[0. 0. 1.]\n",
      "Norma 2 do vetor 1:  1.0\n",
      "Norma 2 do vetor 2:  1.0\n",
      "Norma 2 do vetor 3:  1.0\n"
     ]
    }
   ],
   "source": [
    "# Questão 3 EXO1\n",
    "\"\"\" \n",
    "\n",
    "Dados os seguintes vetores a1=⎡⎣⎢100⎤⎦⎥,a2=⎡⎣⎢110⎤⎦⎥,a3=⎡⎣⎢111⎤⎦⎥\n",
    " . \n",
    "\n",
    "  Desta forma:\n",
    "\n",
    "Verifique que {a1,a2,a3}\n",
    " é uma base para o R3\n",
    ";\n",
    "Construir, a partir destes vectores, uma base ortonormal para o R3\n",
    ".\n",
    "\n",
    "\n",
    "\n",
    "\"\"\"\n",
    "n1 = np.array([1,0,0])\n",
    "n2 = np.array([1,1,0])\n",
    "n3 = np.array([1,1,1])\n",
    "\n",
    "if np.linalg.det(np.array([n1,n2,n3])) != 0:\n",
    "    print(\"Formam uma base\")\n",
    "    #Construir, a partir destes vectores, uma base ortonormal para o R3\n",
    "\n",
    "    \n",
    "\n",
    "        # base ortonormal\n",
    "\n",
    "    n = n1, n2, n3\n",
    "\n",
    "    m = GramSchmidt(n)\n",
    "\n",
    "    for i in range(len(m)):\n",
    "        print(\"Norma 2 do vetor %d: \"%(i+1), Norma2(m[i]))\n"
   ]
  },
  {
   "cell_type": "code",
   "execution_count": 103,
   "metadata": {},
   "outputs": [
    {
     "name": "stdout",
     "output_type": "stream",
     "text": [
      "matriz original: \n",
      " [[ 1.  1.  0.]\n",
      " [ 0.  1.  0.]\n",
      " [ 1. -2.  0.]]\n",
      "\n",
      "matriz modificada: \n",
      "\n",
      "[[ 2.  2.  0.]\n",
      " [ 0.  2.  0.]\n",
      " [ 2. -4.  0.]]\n"
     ]
    }
   ],
   "source": [
    "# Questão 4 EXO1\n",
    "\n",
    "\"\"\"  \n",
    "Para uma matriz A∈Rn×n\n",
    " elabore um Algoritmo que:\n",
    "\n",
    "  Multiplique o escalar c∈R\n",
    " a todos os elementos da coluna j\n",
    ", onde j=1,…,n\n",
    ", da matriz A\n",
    ".\n",
    "\n",
    "\"\"\"\n",
    "\n",
    "\n",
    "\n",
    "def ProdutoColuna(A,k):\n",
    "    print(\"matriz original: \\n\", A)\n",
    "    print(\"\\nmatriz modificada: \\n\")\n",
    "    for j in range(len(A)):\n",
    "        \n",
    "       A[:,j] = A[:,j]*k\n",
    "    print(A)\n",
    "\n",
    "\n",
    "matriz =   np.array([[1,1,0],[0,1,0],[1,-2,0]], dtype=\"float64\")\n",
    "\n",
    "ProdutoColuna(matriz, 2)\n"
   ]
  },
  {
   "cell_type": "code",
   "execution_count": 104,
   "metadata": {},
   "outputs": [],
   "source": [
    "#Normas matriciais\n",
    "\n",
    "def Norma1Coluna(A):\n",
    "    \n",
    "    somaColuna = []\n",
    "    \n",
    "    for j in range(len(A)):\n",
    "        \n",
    "       somaColuna.append(np.sum(np.abs(A[:,j])))\n",
    "    \n",
    "    return np.max(somaColuna)\n",
    "\n",
    "def NormaInfinitoLinha(A):\n",
    "    \n",
    "    somaLinha = []\n",
    "    \n",
    "    for i in range(len(A)):\n",
    "        \n",
    "       somaLinha.append(np.sum(np.abs(A[i,:])))\n",
    "    \n",
    "    return np.max(somaLinha)\n",
    "    \n",
    "    \n",
    "def NormaFrobenius(A):\n",
    "    \n",
    "    soma = 0\n",
    "    \n",
    "    for i in range(len(A)):\n",
    "        for j in range(len(A)):\n",
    "            soma += np.abs(A[i,j])**2\n",
    "    \n",
    "    return np.sqrt(soma)"
   ]
  },
  {
   "cell_type": "code",
   "execution_count": 105,
   "metadata": {},
   "outputs": [
    {
     "data": {
      "text/plain": [
       "11.269427669584644"
      ]
     },
     "execution_count": 105,
     "metadata": {},
     "output_type": "execute_result"
    }
   ],
   "source": [
    "A = np.array([[3, -1, 1],[3, 6 ,2],[3, 3 ,7]])\n",
    "\n",
    "#Noma1Coluna(A)\n",
    "#NormaInfinitoLinha(A)\n",
    "NormaFrobenius(A)"
   ]
  },
  {
   "cell_type": "code",
   "execution_count": 106,
   "metadata": {},
   "outputs": [
    {
     "name": "stdout",
     "output_type": "stream",
     "text": [
      "False\n",
      "False\n",
      "True\n",
      "False\n"
     ]
    }
   ],
   "source": [
    "# Questão 5 EXO1\n",
    "\n",
    "\"\"\"\n",
    "\n",
    "Dadas as seguintes matrices em R3×3\n",
    "A=⎡⎣⎢100210321⎤⎦⎥,B=⎡⎣⎢1−111101−10⎤⎦⎥,C=⎡⎣⎢400010002⎤⎦⎥eD=⎡⎣⎢100110011⎤⎦⎥\n",
    "\n",
    "\"\"\"\n",
    "\n",
    "A  = np.array([[1,2,3],[0,1,2],[0,0,1]])\n",
    "B = np.array([[1,1,1],[-1,1,-1],[1,0,0]])\n",
    "C = np.array([[4,0,0],[0,1,0],[0,0,2]])\n",
    "D = np.array([[1,1,0],[0,1,1],[0,0,1]])\n",
    "\n",
    "print(NormaFrobenius(D) > Norma1Coluna(B)+NormaInfinitoLinha(A))\n",
    "print(Norma1Coluna(B)>NormaInfinitoLinha(C)+NormaFrobenius(A))\n",
    "print(NormaInfinitoLinha(D+C)<=NormaInfinitoLinha(D+A))\n",
    "print(NormaFrobenius(A+B)>=NormaFrobenius(C+D))"
   ]
  },
  {
   "cell_type": "code",
   "execution_count": 107,
   "metadata": {},
   "outputs": [],
   "source": [
    "# Matrizes\n",
    "\n",
    "def IgualdadeMatrizes(A, B):\n",
    "    return np.array_equal(A, B)\n",
    "\n",
    "\n",
    "A  = np.array([[1,2],\n",
    "               [0,1]])\n",
    "B  = np.array([[1,1,1],[-1,1,-1],[1,0,0]])\n",
    "\n",
    "\n",
    "\n",
    "v = np.array([1,\n",
    "              2])\n",
    "\n",
    "\n",
    "def GaussianElimination(A, b):\n",
    "    n = len(A)\n",
    "    X = [0] * n\n",
    "\n",
    "    for k in range(n - 1):\n",
    "        max_val = abs(A[k][k])\n",
    "        max_index = k\n",
    "\n",
    "        for i in range(k + 1, n):\n",
    "            if abs(A[i][k]) > max_val:\n",
    "                max_val = abs(A[i][k])\n",
    "                max_index = i\n",
    "\n",
    "        if max_index != k:\n",
    "            A[k], A[max_index] = A[max_index], A[k]\n",
    "            b[k], b[max_index] = b[max_index], b[k]\n",
    "\n",
    "        if A[k][k] == 0:\n",
    "            # O sistema é impossível ou não tem solução única\n",
    "            # det(A) = 0\n",
    "            return None\n",
    "        else:\n",
    "            for m in range(k + 1, n):\n",
    "                F = (-1) * A[m][k] / A[k][k]\n",
    "                A[m][k] = 0  # Evita uma iteração\n",
    "                b[m] = b[m] + F * b[k]\n",
    "\n",
    "                for l in range(k + 1, n):\n",
    "                    A[m][l] = A[m][l] + F * A[k][l]\n",
    "\n",
    "    X[n - 1] = b[n - 1] / A[n - 1][n - 1]\n",
    "\n",
    "    for i in range(n - 2, -1, -1):\n",
    "        X[i] = b[i]\n",
    "\n",
    "        for j in range(i + 1, n):\n",
    "            X[i] = X[i] - X[j] * A[i][j]\n",
    "\n",
    "        X[i] = X[i] / A[i][i]\n",
    "\n",
    "    return X\n"
   ]
  },
  {
   "cell_type": "code",
   "execution_count": 108,
   "metadata": {},
   "outputs": [
    {
     "name": "stdout",
     "output_type": "stream",
     "text": [
      "[1.0, 2.0, 3.0] \n",
      "\n",
      "[1. 2. 3.]\n"
     ]
    }
   ],
   "source": [
    "\"\"\" \n",
    "\n",
    "⎡⎣⎢100−120 13−4⎤  *  ⎥⎡⎣⎢x1 x2 x3⎤⎦ = ⎡⎣⎢2 13 −12⎤⎦⎥\n",
    "\n",
    "\n",
    "\"\"\"\n",
    "\n",
    "M = np.array([[1,-1,1],[0,2,3],[0,0,-4]])    \n",
    "b = np.array([2,13,-12])\n",
    "\n",
    "print(GaussianElimination(M, b), \"\\n\")\n",
    "print(np.linalg.solve(M, b))"
   ]
  },
  {
   "attachments": {},
   "cell_type": "markdown",
   "metadata": {},
   "source": [
    "## Sistemas Lineares"
   ]
  },
  {
   "cell_type": "code",
   "execution_count": 109,
   "metadata": {},
   "outputs": [],
   "source": [
    "A = np.array([ [1, 2, -3],[1, 3 ,1],[2, 5, -4] ])\n",
    "b= np.array([4,11,13])\n",
    "z = np.zeros((3,3))\n",
    "\n",
    "\n",
    "\n"
   ]
  },
  {
   "cell_type": "code",
   "execution_count": 110,
   "metadata": {},
   "outputs": [],
   "source": [
    "#print( SistemSolver(  GaussianElimination(  MatrizAumentada(  A,b  ) )  )  ) "
   ]
  },
  {
   "cell_type": "code",
   "execution_count": 111,
   "metadata": {},
   "outputs": [],
   "source": [
    "A = np.array([[-4, -3, 2, 1],[1, 2, 3, 4],[0, 5, -1, 3],[-3,2,-1/4,2]])"
   ]
  },
  {
   "cell_type": "code",
   "execution_count": 112,
   "metadata": {},
   "outputs": [],
   "source": [
    "l,u = LUDecomposer(A)"
   ]
  },
  {
   "attachments": {},
   "cell_type": "markdown",
   "metadata": {},
   "source": [
    "## AFA 2"
   ]
  },
  {
   "cell_type": "code",
   "execution_count": 113,
   "metadata": {},
   "outputs": [
    {
     "name": "stdout",
     "output_type": "stream",
     "text": [
      "False\n",
      "[0. 0. 1.]\n",
      "[1. 0. 0. 0.]\n",
      "[0. 1. 0. 0.]\n",
      "[0. 0. 1. 1.]\n",
      "3\n"
     ]
    }
   ],
   "source": [
    "# Questão 1 EXO2\n",
    "\n",
    "A = np.array([[1,0,0],[0,1,0],[0,0,1]])\n",
    "b =  np.array([0,0,1])\n",
    "\n",
    "x = [1,1,0]\n",
    "\n",
    "\n",
    "m,n = A.shape\n",
    "print(m!=n )\n",
    "\n",
    "# False = Não é quadrada\n",
    "\n",
    "np.dot(A,x) == b\n",
    "\n",
    "\n",
    "print(SistemSolver(MatrizAumentada(A,b)))\n",
    "\n",
    "print(PostoMatriz(MatrizAumentada(A,b)))\n"
   ]
  },
  {
   "cell_type": "code",
   "execution_count": 114,
   "metadata": {},
   "outputs": [
    {
     "name": "stdout",
     "output_type": "stream",
     "text": [
      "L = \n",
      " [[ 1.   0.   0. ]\n",
      " [ 0.   1.   0. ]\n",
      " [ 1.  -0.5  1. ]]\n",
      "\n",
      "U = \n",
      " [[2.  2.  1. ]\n",
      " [0.  4.  1. ]\n",
      " [0.  0.  0.5]]\n",
      "\n",
      "x =  [-1. -1.  6.]\n",
      "\n",
      "y =  [2. 2. 3.]\n"
     ]
    }
   ],
   "source": [
    "# Questão 2 EXO2\n",
    "\n",
    "A = np.array([[2,2,1],[0,4,1],[2,0,1]])\n",
    "b =  np.array([2,2,3])\n",
    "\n",
    "l,u = LUDecomposer(A)\n",
    "\n",
    "print(\"L = \\n\", l)\n",
    "print()\n",
    "print(\"U = \\n\",u)\n",
    "\n",
    "#Resolvendo o sistema Ux = y\n",
    "print()\n",
    "\n",
    "print(\"x = \", SistemSolver(MatrizAumentada(u,SistemSolver(MatrizAumentada(l,b)))))\n",
    "\n",
    "#Resolvendo o sistema Ly = b\n",
    "print()\n",
    "print(\"y = \", SistemSolver(MatrizAumentada(l,b)))"
   ]
  },
  {
   "cell_type": "code",
   "execution_count": 115,
   "metadata": {},
   "outputs": [],
   "source": [
    "# Questão 3 EXO2\n",
    "\n",
    "A = np.array([[1,0,-1],[0,1,0],[-1,0,1]])\n",
    "B = np.array([[1,0],[2,30]])\n",
    "C = np.array([[1,0,0],[0,2,0],[0,0,3]])\n",
    "D = np.array([[1,-2],[-2,1]])\n",
    "\n",
    "\n",
    "print(MatrizPositivaDefinida(A))\n",
    "print(MatrizPositivaDefinida(B))\n",
    "print(MatrizPositivaDefinida(C))\n",
    "print(MatrizPositivaDefinida(D))\n",
    "\n",
    "\n",
    "\n",
    "def DefinidaPositiva(A):\n",
    "    \n",
    "    # determinante da submatriz i:i é diferente de 0\n",
    "    \n",
    "    for i in range(len(A)):\n",
    "        if np.linalg.det(A[0:i,0:i]) == 0:\n",
    "            print(\"Não é definida positiva\")\n",
    "            return False    \n",
    "        \n",
    "print(DefinidaPositiva(A))"
   ]
  },
  {
   "cell_type": "code",
   "execution_count": 118,
   "metadata": {},
   "outputs": [],
   "source": [
    "# Questão 4 EXO2\n",
    "\n",
    "\n",
    "\n",
    "A = np.array([[2,0,0],[0,4,4],[0,4,6]])\n",
    "b = np.array([2,2,3])"
   ]
  },
  {
   "cell_type": "code",
   "execution_count": 121,
   "metadata": {},
   "outputs": [
    {
     "name": "stdout",
     "output_type": "stream",
     "text": [
      "[[1.41421356 0.         0.        ]\n",
      " [0.         2.         0.        ]\n",
      " [0.         2.         1.41421356]]\n"
     ]
    }
   ],
   "source": [
    "print(CholeskyDecomposer(A))"
   ]
  },
  {
   "cell_type": "code",
   "execution_count": 125,
   "metadata": {},
   "outputs": [
    {
     "name": "stdout",
     "output_type": "stream",
     "text": [
      "y =  [1.41421356 1.         2.12132034]\n"
     ]
    }
   ],
   "source": [
    "# Gy = b\n",
    "\n",
    "print(\"y = \", SistemSolver(MatrizAumentada(CholeskyDecomposer(A),b)))"
   ]
  },
  {
   "cell_type": "code",
   "execution_count": 127,
   "metadata": {},
   "outputs": [
    {
     "name": "stdout",
     "output_type": "stream",
     "text": [
      "x =  [ 1.  -1.   1.5]\n"
     ]
    }
   ],
   "source": [
    "print(\"x = \", SistemSolver(MatrizAumentada(CholeskyDecomposer(A).T,SistemSolver(MatrizAumentada(CholeskyDecomposer(A),b)))))"
   ]
  }
 ],
 "metadata": {
  "kernelspec": {
   "display_name": "Python 3",
   "language": "python",
   "name": "python3"
  },
  "language_info": {
   "codemirror_mode": {
    "name": "ipython",
    "version": 3
   },
   "file_extension": ".py",
   "mimetype": "text/x-python",
   "name": "python",
   "nbconvert_exporter": "python",
   "pygments_lexer": "ipython3",
   "version": "3.9.7 (tags/v3.9.7:1016ef3, Aug 30 2021, 20:19:38) [MSC v.1929 64 bit (AMD64)]"
  },
  "orig_nbformat": 4,
  "vscode": {
   "interpreter": {
    "hash": "c7eff589202d1b081309a21c1fcab32e7bd6b92ee77a4b4c9e08aff7652052eb"
   }
  }
 },
 "nbformat": 4,
 "nbformat_minor": 2
}
