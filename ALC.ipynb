{
 "cells": [
  {
   "cell_type": "code",
   "execution_count": 1,
   "metadata": {},
   "outputs": [],
   "source": [
    "import numpy as np \n"
   ]
  },
  {
   "cell_type": "code",
   "execution_count": 39,
   "metadata": {},
   "outputs": [],
   "source": [
    "def SomaVetores(x, y):\n",
    "    \n",
    "    np.sum(x, y)\n",
    "\n",
    "def MultiplicaEscalarVetor(a, x):    \n",
    "    np.dot(a, x)\n",
    "\n",
    "\n",
    "def ProdutoInterno(x, y):\n",
    "    return np.dot(x, y)\n",
    "\n",
    "#Normas \n",
    "\n",
    "def Norma1(x):\n",
    "    return np.sum(np.abs(x))\n",
    "def Norma2(x):\n",
    "    return np.sqrt(np.sum(np.abs(x)**2))\n",
    "def NormaInfinito(x):\n",
    "    return np.max(np.abs(x))\n",
    "def Normap(x, p):\n",
    "    return np.sum(np.abs(x)**p)**(1/p)\n",
    "def NormaSoma(x, y):\n",
    "    return np.sqrt(Norma2(x)**2 + Norma2(y)**2 + 2*ProdutoInterno(x, y))\n",
    "def NormaSubtracao(x, y):\n",
    "    return np.sqrt( (Norma2(x)) **2 + (Norma2(y))**2 - 2*ProdutoInterno(x, y))\n",
    "\n",
    "# Distâncias\n",
    "\n",
    "def DistanciaCaracteristicas(x, y):\n",
    "    \n",
    "    return NormaSubtracao(x, y)\n",
    "\n",
    "def Vizinhanca(x,z):\n",
    "    # X é o ponto base \n",
    "    # Z é uma lista de pontos, a qual queremos o de menor distância\n",
    "    \n",
    "    proximo = z[0]\n",
    "    \n",
    "    for i in range(len(z)):\n",
    "        if DistanciaCaracteristicas(x, z[i]) < DistanciaCaracteristicas(x, proximo):\n",
    "            proximo = z[i]\n",
    "            \n",
    "    return proximo\n",
    "\n",
    "\n",
    "# Aplicação Normalização\n",
    "\n",
    "def NormalizaVetor(x):\n",
    "    return x/Norma2(x)\n",
    "\n",
    "def BaseOrtonormal(beta,x):\n",
    "    \n",
    "    #x é o vetor que queremos a base ortonormal\n",
    "    #beta é a base ortonormal\n",
    "    xnormal = []\n",
    "    \n",
    "    if len(beta) != len(x):\n",
    "        print(\"Erro, dimensões diferentes\")\n",
    "        return\n",
    "    else:\n",
    "        \n",
    "        for i in range(len(beta)):\n",
    "            \n",
    "            xnormal.append(ProdutoInterno(x, beta[i])*beta[i])\n",
    "        \n",
    "        return xnormal\n",
    "\n",
    "def AnguloVetores(x, y):\n",
    "    \n",
    "    return np.arccos(  ( ProdutoInterno(x, y)/(Norma2(x)*Norma2(y)) )  )    \n",
    "\n",
    "\n",
    "def GramSchmidt(a, tol=1e-10):\n",
    "    q = []\n",
    "    for i in range(len(a)):\n",
    "        qtilde = np.array(a[i], dtype=np.float64)  # Convert to float64 explicitly\n",
    "        for j in range(i):\n",
    "            qtilde -= np.dot(q[j], a[i]) * q[j]\n",
    "        if np.linalg.norm(qtilde) < tol:\n",
    "            print(\"Os vetores são linearmente dependentes.\")\n",
    "            return q\n",
    "        print(qtilde)\n",
    "        q.append(qtilde / np.linalg.norm(qtilde))\n",
    "    return q\n",
    "\n",
    "\n"
   ]
  },
  {
   "attachments": {},
   "cell_type": "markdown",
   "metadata": {},
   "source": [
    "### Exercício 3.\n",
    "\n",
    "Dado o conjunto V = {v1, v2, v3, v4, v5, v6}, onde\n",
    "v1 = [1,2,3,4], \n",
    "v2 = [0,5,−1,3],\n",
    "v3 = [−4,−3,2,1],\n",
    "v4 = [−,1,−7,3,−7/3],\n",
    "v5 = [1,−4,−6,-2],\n",
    "v6 = [3,2,−1/4,2]"
   ]
  },
  {
   "cell_type": "code",
   "execution_count": 3,
   "metadata": {},
   "outputs": [
    {
     "name": "stdout",
     "output_type": "stream",
     "text": [
      "Produto interno entre v 1  e v 2 :  19\n",
      "Produto interno entre v 1  e v 3 :  0\n",
      "Produto interno entre v 1  e v 4 :  -15.3332\n",
      "Produto interno entre v 1  e v 5 :  -33\n",
      "Produto interno entre v 1  e v 6 :  14.25\n",
      "Produto interno entre v 2  e v 3 :  -14\n",
      "Produto interno entre v 2  e v 4 :  -44.9999\n",
      "Produto interno entre v 2  e v 5 :  -20\n",
      "Produto interno entre v 2  e v 6 :  16.25\n",
      "Produto interno entre v 3  e v 4 :  28.6667\n",
      "Produto interno entre v 3  e v 5 :  -6\n",
      "Produto interno entre v 3  e v 6 :  -16.5\n",
      "Produto interno entre v 4  e v 5 :  13.666599999999999\n",
      "Produto interno entre v 4  e v 6 :  -22.4166\n",
      "Produto interno entre v 5  e v 6 :  -7.5\n"
     ]
    }
   ],
   "source": [
    "## Correção da questão 3 da lista de exercícios\n",
    "\n",
    "# Verifica Ortogonalidade\n",
    "\n",
    "\n",
    "v1 = [1,2,3,4]\n",
    "v2 = [0,5,-1,3]\n",
    "v3 = [-4,-3,2,1]\n",
    "v4 = [-1,-7,3,-2.3333]\n",
    "v5 = [1,-4,-6,-2]\n",
    "v6 = [3,2,-0.25,2]\n",
    "\n",
    "V = np.array([v1,v2,v3,v4,v5,v6],dtype=\"object\")\n",
    "\n",
    "for i in range(len(V)):\n",
    "    for j in range(i,len(V)):\n",
    "        if i != j:\n",
    "            print(\"Produto interno entre v\",i+1,\" e v\",j+1,\": \", ProdutoInterno(V[i],V[j]))"
   ]
  },
  {
   "cell_type": "code",
   "execution_count": 4,
   "metadata": {},
   "outputs": [
    {
     "name": "stdout",
     "output_type": "stream",
     "text": [
      "Angulo entre v 1  e v 2 :  0.9442473545867198\n",
      "Angulo entre v 1  e v 3 :  1.5707963267948966\n",
      "Angulo entre v 1  e v 4 :  1.9270040069334677\n",
      "Angulo entre v 1  e v 5 :  2.49480519746212\n",
      "Angulo entre v 1  e v 6 :  0.8894441470679866\n",
      "Angulo entre v 2  e v 3 :  2.0175602879101473\n",
      "Angulo entre v 2  e v 4 :  2.816162498730185\n",
      "Angulo entre v 2  e v 5 :  2.035070208212683\n",
      "Angulo entre v 2  e v 6 :  0.8433509628782423\n",
      "Angulo entre v 3  e v 4 :  0.860622133841933\n",
      "Angulo entre v 3  e v 5 :  1.7164055673877163\n",
      "Angulo entre v 3  e v 6 :  2.38808423797738\n",
      "Angulo entre v 4  e v 5 :  1.3433484740176547\n",
      "Angulo entre v 4  e v 6 :  2.3131372783928406\n",
      "Angulo entre v 5  e v 6 :  1.8136700887016526\n"
     ]
    }
   ],
   "source": [
    "# Verifica Angulos:\n",
    "\n",
    "\n",
    "for i in range(len(V)):\n",
    "    for j in range(i,len(V)):\n",
    "        if i != j:\n",
    "            print(\"Angulo entre v\",i+1,\" e v\",j+1,\": \", AnguloVetores(V[i],V[j]))\n"
   ]
  },
  {
   "cell_type": "code",
   "execution_count": 5,
   "metadata": {},
   "outputs": [
    {
     "data": {
      "text/plain": [
       "1.5707963267948966"
      ]
     },
     "execution_count": 5,
     "metadata": {},
     "output_type": "execute_result"
    }
   ],
   "source": [
    "np.arccos((ProdutoInterno(v1,v3)/Norma2(v1)*Norma2(v3)))"
   ]
  },
  {
   "cell_type": "code",
   "execution_count": 6,
   "metadata": {},
   "outputs": [
    {
     "name": "stdout",
     "output_type": "stream",
     "text": [
      "Combinação: v0,v1,v2,v3 [1 2 3 4] [0 5 -1 3] [-4 -3 2 1] [-1 -7 3 -2.3333]\n",
      "[[ 1.      2.      3.      4.    ]\n",
      " [ 0.      5.     -1.      3.    ]\n",
      " [-4.     -3.      2.      1.    ]\n",
      " [-1.     -7.      3.     -2.3333]]\n",
      "Formam uma base, det:  0.0024999999999941766\n",
      "Combinação: v0,v1,v2,v4 [1 2 3 4] [0 5 -1 3] [-4 -3 2 1] [1 -4 -6 -2]\n",
      "[[ 1.  2.  3.  4.]\n",
      " [ 0.  5. -1.  3.]\n",
      " [-4. -3.  2.  1.]\n",
      " [ 1. -4. -6. -2.]]\n",
      "Formam uma base, det:  534.0000000000001\n",
      "Combinação: v0,v1,v2,v5 [1 2 3 4] [0 5 -1 3] [-4 -3 2 1] [3 2 -0.25 2]\n",
      "[[ 1.    2.    3.    4.  ]\n",
      " [ 0.    5.   -1.    3.  ]\n",
      " [-4.   -3.    2.    1.  ]\n",
      " [ 3.    2.   -0.25  2.  ]]\n",
      "Formam uma base, det:  133.4999999999999\n",
      "Combinação: v0,v1,v3,v4 [1 2 3 4] [0 5 -1 3] [-1 -7 3 -2.3333] [1 -4 -6 -2]\n",
      "[[ 1.      2.      3.      4.    ]\n",
      " [ 0.      5.     -1.      3.    ]\n",
      " [-1.     -7.      3.     -2.3333]\n",
      " [ 1.     -4.     -6.     -2.    ]]\n",
      "Formam uma base, det:  178.00169999999994\n",
      "Combinação: v0,v1,v3,v5 [1 2 3 4] [0 5 -1 3] [-1 -7 3 -2.3333] [3 2 -0.25 2]\n",
      "[[ 1.      2.      3.      4.    ]\n",
      " [ 0.      5.     -1.      3.    ]\n",
      " [-1.     -7.      3.     -2.3333]\n",
      " [ 3.      2.     -0.25    2.    ]]\n",
      "Formam uma base, det:  44.501674999999985\n",
      "Combinação: v0,v1,v4,v5 [1 2 3 4] [0 5 -1 3] [1 -4 -6 -2] [3 2 -0.25 2]\n",
      "[[ 1.    2.    3.    4.  ]\n",
      " [ 0.    5.   -1.    3.  ]\n",
      " [ 1.   -4.   -6.   -2.  ]\n",
      " [ 3.    2.   -0.25  2.  ]]\n",
      "Formam uma base, det:  267.00000000000006\n",
      "Combinação: v0,v2,v3,v4 [1 2 3 4] [-4 -3 2 1] [-1 -7 3 -2.3333] [1 -4 -6 -2]\n",
      "[[ 1.      2.      3.      4.    ]\n",
      " [-4.     -3.      2.      1.    ]\n",
      " [-1.     -7.      3.     -2.3333]\n",
      " [ 1.     -4.     -6.     -2.    ]]\n",
      "Formam uma base, det:  711.9987000000006\n",
      "Combinação: v0,v2,v3,v5 [1 2 3 4] [-4 -3 2 1] [-1 -7 3 -2.3333] [3 2 -0.25 2]\n",
      "[[ 1.      2.      3.      4.    ]\n",
      " [-4.     -3.      2.      1.    ]\n",
      " [-1.     -7.      3.     -2.3333]\n",
      " [ 3.      2.     -0.25    2.    ]]\n",
      "Formam uma base, det:  177.9996750000001\n",
      "Combinação: v0,v2,v4,v5 [1 2 3 4] [-4 -3 2 1] [1 -4 -6 -2] [3 2 -0.25 2]\n",
      "[[ 1.    2.    3.    4.  ]\n",
      " [-4.   -3.    2.    1.  ]\n",
      " [ 1.   -4.   -6.   -2.  ]\n",
      " [ 3.    2.   -0.25  2.  ]]\n",
      "LD!!\n",
      "Combinação: v0,v3,v4,v5 [1 2 3 4] [-1 -7 3 -2.3333] [1 -4 -6 -2] [3 2 -0.25 2]\n",
      "[[ 1.      2.      3.      4.    ]\n",
      " [-1.     -7.      3.     -2.3333]\n",
      " [ 1.     -4.     -6.     -2.    ]\n",
      " [ 3.      2.     -0.25    2.    ]]\n",
      "Formam uma base, det:  -355.99934999999994\n",
      "Combinação: v1,v2,v3,v4 [0 5 -1 3] [-4 -3 2 1] [-1 -7 3 -2.3333] [1 -4 -6 -2]\n",
      "[[ 0.      5.     -1.      3.    ]\n",
      " [-4.     -3.      2.      1.    ]\n",
      " [-1.     -7.      3.     -2.3333]\n",
      " [ 1.     -4.     -6.     -2.    ]]\n",
      "Formam uma base, det:  178.0043000000001\n",
      "Combinação: v1,v2,v3,v5 [0 5 -1 3] [-4 -3 2 1] [-1 -7 3 -2.3333] [3 2 -0.25 2]\n",
      "[[ 0.      5.     -1.      3.    ]\n",
      " [-4.     -3.      2.      1.    ]\n",
      " [-1.     -7.      3.     -2.3333]\n",
      " [ 3.      2.     -0.25    2.    ]]\n",
      "Formam uma base, det:  44.49920000000002\n",
      "Combinação: v1,v2,v4,v5 [0 5 -1 3] [-4 -3 2 1] [1 -4 -6 -2] [3 2 -0.25 2]\n",
      "[[ 0.    5.   -1.    3.  ]\n",
      " [-4.   -3.    2.    1.  ]\n",
      " [ 1.   -4.   -6.   -2.  ]\n",
      " [ 3.    2.   -0.25  2.  ]]\n",
      "Formam uma base, det:  -400.5000000000001\n",
      "Combinação: v1,v3,v4,v5 [0 5 -1 3] [-1 -7 3 -2.3333] [1 -4 -6 -2] [3 2 -0.25 2]\n",
      "[[ 0.      5.     -1.      3.    ]\n",
      " [-1.     -7.      3.     -2.3333]\n",
      " [ 1.     -4.     -6.     -2.    ]\n",
      " [ 3.      2.     -0.25    2.    ]]\n",
      "Formam uma base, det:  -222.50342499999996\n",
      "Combinação: v2,v3,v4,v5 [-4 -3 2 1] [-1 -7 3 -2.3333] [1 -4 -6 -2] [3 2 -0.25 2]\n",
      "[[-4.     -3.      2.      1.    ]\n",
      " [-1.     -7.      3.     -2.3333]\n",
      " [ 1.     -4.     -6.     -2.    ]\n",
      " [ 3.      2.     -0.25    2.    ]]\n",
      "Formam uma base, det:  -533.999025\n"
     ]
    }
   ],
   "source": [
    "# Gerar todos os possíveis subconjuntos de v com 4 vetores e verificar se formam uma base\n",
    "\n",
    "# C 6,4 = 15\n",
    "\n",
    "#Separar as combinações de quatro vetores possíveis\n",
    "\n",
    "for i in range(len(V)):\n",
    "    for j in range(i+1,len(V)):\n",
    "        for k in range(j+1,len(V)):\n",
    "            for l in range(k+1,len(V)):\n",
    "                print(\"Combinação: v%d,v%d,v%d,v%d\"%(i,j,k,l),V[i],V[j],V[k],V[l])\n",
    "                #print(V[i],V[j],V[k],V[l])\n",
    "                # verificar se formam uma base\n",
    "                A = np.array([V[i],V[j],V[k],V[l]], dtype=\"float64\")\n",
    "                print(A)\n",
    "                det = np.linalg.det(A)\n",
    "                if det != 0:\n",
    "                    \n",
    "                    print(\"Formam uma base, det: \", det)\n",
    "                else:\n",
    "                    print(\"LD!!\")"
   ]
  },
  {
   "cell_type": "code",
   "execution_count": 7,
   "metadata": {},
   "outputs": [],
   "source": [
    "Z  = np.array([[ 1,  2,  3, 4],[ 0,  5,-1, 3],[-4,-3, 2, 1],[ 1,-4,-6,-2]], dtype=\"float64\")\n",
    "\n",
    "h = np.array([[1,0],[0,2]], dtype=\"float64\")"
   ]
  },
  {
   "cell_type": "code",
   "execution_count": 8,
   "metadata": {},
   "outputs": [
    {
     "data": {
      "text/plain": [
       "534.0000000000001"
      ]
     },
     "execution_count": 8,
     "metadata": {},
     "output_type": "execute_result"
    }
   ],
   "source": [
    "np.linalg.det(Z)"
   ]
  },
  {
   "cell_type": "code",
   "execution_count": 9,
   "metadata": {},
   "outputs": [
    {
     "name": "stdout",
     "output_type": "stream",
     "text": [
      "Norma 1 de v1:  10\n",
      "Norma 2 de v1:  5.477225575051661\n",
      "Norma infinito de v1:  4\n",
      "Norma 1 de v2:  9\n",
      "Norma 2 de v2:  5.916079783099616\n",
      "Norma infinito de v2:  5\n",
      "Norma 1 de v3:  10\n",
      "Norma 2 de v3:  5.477225575051661\n",
      "Norma infinito de v3:  4\n",
      "Norma 1 de v4:  13.3333\n",
      "Norma 2 de v4:  8.027720030618905\n",
      "Norma infinito de v4:  7\n",
      "Norma 1 de v5:  13\n",
      "Norma 2 de v5:  7.54983443527075\n",
      "Norma infinito de v5:  6\n",
      "Norma 1 de v6:  7.25\n",
      "Norma 2 de v6:  4.130677910464576\n",
      "Norma infinito de v6:  3\n"
     ]
    }
   ],
   "source": [
    "# Calcular Normas 1,2,infinito para cada vetor\n",
    "\n",
    "for i in range(len(V)):\n",
    "    print(\"Norma 1 de v%d: \"%(i+1), Norma1(V[i]))\n",
    "    print(\"Norma 2 de v%d: \"%(i+1), Norma2(V[i]))\n",
    "    print(\"Norma infinito de v%d: \"%(i+1), NormaInfinito(V[i]))"
   ]
  },
  {
   "cell_type": "code",
   "execution_count": 25,
   "metadata": {},
   "outputs": [],
   "source": [
    "### Questão 6\n",
    "\n",
    "def a(x):\n",
    "    \n",
    "    return np.max(np.abs(x[:-1])) # Norma infinito de 1 ate n-1\n",
    "\n",
    "def b(x):\n",
    "    return np.sum(np.abs(x**3))\n",
    "\n",
    "def c(x):\n",
    "    return np.sum(np.abs(x**2)**(1/2))\n",
    "\n",
    "def d(x):\n",
    "    \n",
    "    soma = 0\n",
    "    for i in range(len(x)):\n",
    "       soma += np.abs((2**-i)*x[i])\n",
    "    \n",
    "    return soma"
   ]
  },
  {
   "cell_type": "code",
   "execution_count": 26,
   "metadata": {},
   "outputs": [
    {
     "name": "stdout",
     "output_type": "stream",
     "text": [
      "True True True\n",
      "True False True\n",
      "True True True\n",
      "True True True\n"
     ]
    }
   ],
   "source": [
    "# Verificar Norma:\n",
    "\n",
    "#||u|| >= 0\n",
    "#||u+v|| <= ||u|| + ||v||\n",
    "#||au|| = |a|*||u||\n",
    "\n",
    "u = np.array([1,0,1])\n",
    "v = np.array([-2,1,0])\n",
    "\n",
    "print(a(u+v) <= a(u) + a(v),a(2*u) == 2*a(u),a(u) >= 0 )\n",
    "print(b(u+v) <= b(u) + b(v),b(2*u) == 2*b(u),b(u) >= 0 )\n",
    "print(c(u+v) <= c(u) + c(v),c(2*u) == 2*c(u),c(u) >= 0 )\n",
    "print(d(u+v) <= d(u) + d(v),d(2*u) == 2*d(u),d(u) >= 0 )\n",
    "\n"
   ]
  },
  {
   "cell_type": "code",
   "execution_count": 40,
   "metadata": {},
   "outputs": [
    {
     "name": "stdout",
     "output_type": "stream",
     "text": [
      "[1. 1. 0.]\n",
      "[-0.5  0.5  1. ]\n",
      "[ 0.66666667 -0.66666667  0.66666667]\n",
      "Norma 2 do vetor 1:  0.9999999999999999\n",
      "Norma 2 do vetor 2:  1.0\n",
      "Norma 2 do vetor 3:  1.0\n"
     ]
    }
   ],
   "source": [
    "# Questão 8\n",
    "\n",
    "\n",
    "a1 = np.array([1,1,0])\n",
    "a2 = np.array([0,1,1])\n",
    "a3 = np.array([1,0,1])\n",
    "\n",
    "beta = [a1,a2,a3]\n",
    "\n",
    "\n",
    "# base ortonormal\n",
    "\n",
    "beta = GramSchmidt(beta)\n",
    "\n",
    "for i in range(len(beta)):\n",
    "    print(\"Norma 2 do vetor %d: \"%(i+1), Norma2(beta[i]))"
   ]
  }
 ],
 "metadata": {
  "kernelspec": {
   "display_name": "Python 3",
   "language": "python",
   "name": "python3"
  },
  "language_info": {
   "codemirror_mode": {
    "name": "ipython",
    "version": 3
   },
   "file_extension": ".py",
   "mimetype": "text/x-python",
   "name": "python",
   "nbconvert_exporter": "python",
   "pygments_lexer": "ipython3",
   "version": "3.9.7"
  },
  "orig_nbformat": 4,
  "vscode": {
   "interpreter": {
    "hash": "c7eff589202d1b081309a21c1fcab32e7bd6b92ee77a4b4c9e08aff7652052eb"
   }
  }
 },
 "nbformat": 4,
 "nbformat_minor": 2
}
